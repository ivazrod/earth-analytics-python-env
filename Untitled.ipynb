{
 "cells": [
  {
   "cell_type": "markdown",
   "id": "radio-cleveland",
   "metadata": {},
   "source": [
    "# Testing Git Add/Commit/Push commands\n",
    "\n",
    "This is a test to learning use Git tools"
   ]
  },
  {
   "cell_type": "code",
   "execution_count": 1,
   "id": "racial-blink",
   "metadata": {},
   "outputs": [],
   "source": [
    "import geopandas"
   ]
  },
  {
   "cell_type": "code",
   "execution_count": null,
   "id": "naughty-airplane",
   "metadata": {},
   "outputs": [],
   "source": []
  }
 ],
 "metadata": {
  "kernelspec": {
   "display_name": "Python 3",
   "language": "python",
   "name": "python3"
  },
  "language_info": {
   "codemirror_mode": {
    "name": "ipython",
    "version": 3
   },
   "file_extension": ".py",
   "mimetype": "text/x-python",
   "name": "python",
   "nbconvert_exporter": "python",
   "pygments_lexer": "ipython3",
   "version": "3.8.8"
  }
 },
 "nbformat": 4,
 "nbformat_minor": 5
}
